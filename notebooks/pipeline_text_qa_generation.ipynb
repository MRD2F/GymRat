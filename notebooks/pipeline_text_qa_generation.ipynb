{
 "cells": [
  {
   "cell_type": "markdown",
   "id": "6c62a5fe",
   "metadata": {},
   "source": [
    "Notebook showing how to call, and specific arguments used, for each of the classes/methods from different scripts, to produce the final input for the LLM fine-tuning"
   ]
  },
  {
   "cell_type": "code",
   "execution_count": null,
   "id": "758d7d9d",
   "metadata": {},
   "outputs": [
    {
     "name": "stderr",
     "output_type": "stream",
     "text": [
      "/home/mrosaria/Projects/NLP/GymRat/ratenv/lib/python3.12/site-packages/tqdm/auto.py:21: TqdmWarning: IProgress not found. Please update jupyter and ipywidgets. See https://ipywidgets.readthedocs.io/en/stable/user_install.html\n",
      "  from .autonotebook import tqdm as notebook_tqdm\n"
     ]
    }
   ],
   "source": [
    "from pathlib import Path\n",
    "import sys\n",
    "sys.path.append(str(Path('../python').resolve()))\n",
    "from create_clean_chunks import CreateChunks, HeaderPreservingChunker\n",
    "from create_qa import GenerateQAContent\n",
    "\n",
    "from pprint import pprint\n",
    "\n",
    "from transformers import AutoTokenizer\n"
   ]
  },
  {
   "cell_type": "markdown",
   "id": "f5fca729",
   "metadata": {},
   "source": [
    "# Load and chunk .pdf file using Docling"
   ]
  },
  {
   "cell_type": "code",
   "execution_count": null,
   "id": "58450341",
   "metadata": {},
   "outputs": [],
   "source": [
    "input_file=\"../data/books/rebuilding_milo.pdf\"\n",
    "output_chunks_file = \"../data/rebuilding_milo_chunks_docling_max_tokens128_min_tokens50_meta_llama3p18B.txt\"\n",
    "model_id = \"meta-llama/Llama-3.1-8B-Instruct\" #TinyLlama/TinyLlama-1.1B-Chat-v1.0\"\n",
    "\n",
    "tokenizer = AutoTokenizer.from_pretrained(model_id)\n",
    "tokenizer.pad_token = tokenizer.eos_token\n",
    "\n",
    "save_docling_chunks=False\n",
    "\n",
    "cc = HeaderPreservingChunker(file_path=input_file, tokenizer=tokenizer,  max_tokens=128)\n",
    "x = cc.get_clean_chunks()\n",
    "print(x[:10])\n",
    "\n",
    "if save_docling_chunks:\n",
    "    with open(output_chunks_file, \"w\", encoding=\"utf-8\") as f:\n",
    "        for item in x:\n",
    "            f.write(item + \"\\n\")"
   ]
  },
  {
   "cell_type": "markdown",
   "id": "108a9920",
   "metadata": {},
   "source": [
    "# Load and chunk .pdf file using Langchain"
   ]
  },
  {
   "cell_type": "code",
   "execution_count": null,
   "id": "0376a9ad",
   "metadata": {},
   "outputs": [],
   "source": [
    "input_file=\"../data/books/rebuilding_milo.pdf\"\n",
    "output_chunks_file = \"../data/rebuilding_milo_chunks_docling_max_tokens128_min_tokens50_meta_llama3p18B.txt\"\n",
    "model_id = \"meta-llama/Llama-3.1-8B-Instruct\" #TinyLlama/TinyLlama-1.1B-Chat-v1.0\"\n",
    "\n",
    "tokenizer = AutoTokenizer.from_pretrained(model_id)\n",
    "tokenizer.pad_token = tokenizer.eos_token\n",
    "\n",
    "def llama_token_len(text):\n",
    "    return len(tokenizer.encode(text))\n",
    "\n",
    "save_docling_chunks=False\n",
    "cc_langchain = CreateChunks(file_path=input_file, chunk_size=500, chunk_overlap=50, length_function=llama_token_len)\n",
    "y = cc_langchain.get_clean_chunks()\n",
    "print(y[:10])\n"
   ]
  },
  {
   "cell_type": "code",
   "execution_count": null,
   "id": "17fe5c0f",
   "metadata": {},
   "outputs": [],
   "source": [
    "len(y)"
   ]
  },
  {
   "cell_type": "markdown",
   "id": "30c1171e",
   "metadata": {},
   "source": [
    "# Generate Raw Q&A entries from chunks text"
   ]
  },
  {
   "cell_type": "code",
   "execution_count": 6,
   "id": "0d786c5b",
   "metadata": {},
   "outputs": [
    {
     "name": "stderr",
     "output_type": "stream",
     "text": [
      "Loading checkpoint shards: 100%|██████████| 4/4 [00:15<00:00,  3.98s/it]\n",
      "Device set to use cuda:0\n",
      "  0%|          | 0/1 [00:00<?, ?it/s]"
     ]
    },
    {
     "name": "stdout",
     "output_type": "stream",
     "text": [
      "i: 0\n",
      "Processing batch with samples (0, 16) \n"
     ]
    },
    {
     "name": "stderr",
     "output_type": "stream",
     "text": [
      "100%|██████████| 1/1 [00:03<00:00,  3.09s/it]\n"
     ]
    }
   ],
   "source": [
    "file_name = \"../data/rebuilding_milo_chunks_docling_max_tokens128_min_tokens50_meta_llama3p18B.txt\" \n",
    "#\"../notebooks/rebuilding_milo_chunks_docling_max_tokens512_min_tokens50.txt\"\n",
    "\n",
    "model_id = \"meta-llama/Llama-3.1-8B-Instruct\" #TinyLlama/TinyLlama-1.1B-Chat-v1.0\"\n",
    "save_json=False\n",
    "#For all chunks set to None\n",
    "n_chunks_intervals=[30,31] \n",
    "n_repetitions = 1\n",
    "\n",
    "gc = GenerateQAContent(file_name, model_id)\n",
    "text = gc.get_text()\n",
    "raw_outputs = gc.generate_content(n_chunks_intervals=n_chunks_intervals, n_repetitions=n_repetitions, \n",
    "                                  save_json=save_json, batch_size=16)\n"
   ]
  },
  {
   "cell_type": "code",
   "execution_count": 7,
   "id": "33f98d8c",
   "metadata": {},
   "outputs": [
    {
     "name": "stdout",
     "output_type": "stream",
     "text": [
      "['<|begin_of_text|><|start_header_id|>system<|end_header_id|>\\n'\n",
      " '\\n'\n",
      " 'Cutting Knowledge Date: December 2023\\n'\n",
      " 'Today Date: 26 Jul 2024\\n'\n",
      " '\\n'\n",
      " 'You are a concise and helpful medical tutor. Based on the provided text, '\n",
      " \"generate a JSON object with exactly ONE question (as 'instruction') and ONE \"\n",
      " \"answer (as 'output').\\n\"\n",
      " '\\n'\n",
      " '- The content must relate to health, exercise, sports, fitness, or '\n",
      " 'physiotherapy.\\n'\n",
      " '- Do not include multiple questions or answers.\\n'\n",
      " '- Do not repeat the instruction in the output.\\n'\n",
      " '- Keep the output brief and informative.\\n'\n",
      " '- If the text is not relevant, return: {\"instruction\": \"NULL\", \"output\": '\n",
      " '\"NULL\"}\\n'\n",
      " '\\n'\n",
      " '- Respond ONLY with the JSON object. Do NOT include any explanation or '\n",
      " 'commentary.<|eot_id|><|start_header_id|>user<|end_header_id|>\\n'\n",
      " '\\n'\n",
      " 'In the following weeks after Josiah was stabilized, he underwent extensive '\n",
      " 'surgery to repair the torn ligaments and tendons. He then was placed in '\n",
      " 'straight leg braces (unable to move his knees whatsoever) for 12 weeks. '\n",
      " 'Eventually, in early 2017, he came to me to start physical therapy. It would '\n",
      " 'be an understatement for me to say that this was the most challenging case I '\n",
      " 'had ever seen. By this time in my career, I had helped hundreds of athletes '\n",
      " 'rehab knee injuries ranging from meniscus repairs to ACL reconstructions. '\n",
      " \"The damage inicted on Josiah's body that day \"\n",
      " 'in<|eot_id|><|start_header_id|>assistant<|end_header_id|>\\n'\n",
      " '\\n'\n",
      " '{\"instruction\": \"What are the most common types of knee injuries that '\n",
      " 'require physical therapy after surgery?\", \"output\": \"Meniscus repairs and '\n",
      " 'ACL reconstructions.\"}']\n"
     ]
    }
   ],
   "source": [
    "pprint(raw_outputs)"
   ]
  },
  {
   "cell_type": "markdown",
   "id": "b0e39837",
   "metadata": {},
   "source": []
  }
 ],
 "metadata": {
  "kernelspec": {
   "display_name": "ratenv",
   "language": "python",
   "name": "python3"
  },
  "language_info": {
   "codemirror_mode": {
    "name": "ipython",
    "version": 3
   },
   "file_extension": ".py",
   "mimetype": "text/x-python",
   "name": "python",
   "nbconvert_exporter": "python",
   "pygments_lexer": "ipython3",
   "version": "3.12.3"
  }
 },
 "nbformat": 4,
 "nbformat_minor": 5
}
