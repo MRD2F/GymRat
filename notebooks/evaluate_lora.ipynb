{
 "cells": [
  {
   "cell_type": "code",
   "execution_count": 18,
   "id": "45c60f08",
   "metadata": {},
   "outputs": [],
   "source": [
    " \n",
    "from transformers import AutoTokenizer, AutoModelForCausalLM, TrainingArguments, Trainer, DataCollatorForLanguageModeling, BitsAndBytesConfig, default_data_collator\n",
    "from peft import get_peft_model, LoraConfig, TaskType, PeftModel\n",
    "from datasets import load_dataset\n",
    "import os\n",
    "from dotenv import load_dotenv\n",
    "from huggingface_hub import login\n",
    "import torch\n",
    "from torch.utils.data import DataLoader\n",
    "from IPython.display import Markdown, display\n",
    "\n"
   ]
  },
  {
   "cell_type": "code",
   "execution_count": 2,
   "id": "51652d63",
   "metadata": {},
   "outputs": [],
   "source": [
    "def get_private_keys(key_name):\n",
    "    load_dotenv()\n",
    "    key = os.getenv(key_name)\n",
    "    if not key:\n",
    "        raise ValueError(f\"Missing key for {key_name} in .env\") \n",
    "    return key\n",
    "\n",
    "huggingface_hub_token = get_private_keys(\"huggingface_hub\")\n",
    "login(token=huggingface_hub_token)"
   ]
  },
  {
   "cell_type": "code",
   "execution_count": 3,
   "id": "ba0a4559",
   "metadata": {},
   "outputs": [],
   "source": [
    "#Base Model\n",
    "\n",
    "model_id=\"TinyLlama/TinyLlama-1.1B-Chat-v1.0\"\n",
    "\n",
    "quant_config = BitsAndBytesConfig(\n",
    "    load_in_4bit=True,\n",
    "    bnb_4bit_use_double_quant=True,\n",
    "    bnb_4bit_quant_type=\"nf4\",  #or \"fp4\"\n",
    "    bnb_4bit_compute_dtype=\"float16\"\n",
    ")\n",
    "\n",
    "model = AutoModelForCausalLM.from_pretrained(\n",
    "    model_id,\n",
    "    quantization_config=quant_config,\n",
    "    device_map=\"auto\",\n",
    "    trust_remote_code=True\n",
    ").eval()\n",
    "\n",
    "tokenizer = AutoTokenizer.from_pretrained(model_id, use_fast=True)\n",
    "tokenizer.pad_token = tokenizer.eos_token"
   ]
  },
  {
   "cell_type": "code",
   "execution_count": 4,
   "id": "7d8a0228",
   "metadata": {},
   "outputs": [
    {
     "name": "stderr",
     "output_type": "stream",
     "text": [
      "/home/mrosaria/Projects/NLP/GymRat/ratenv/lib/python3.12/site-packages/peft/tuners/lora/bnb.py:348: UserWarning: Merge lora module to 4-bit linear may get different generations due to rounding errors.\n",
      "  warnings.warn(\n"
     ]
    }
   ],
   "source": [
    "# Fine-tuned model\n",
    "new_model_name = \"tinyllama-v2-qa-343samples-finetuned-08082025\"\n",
    "\n",
    "tmp_model = AutoModelForCausalLM.from_pretrained(\n",
    "    model_id,\n",
    "    quantization_config=quant_config,\n",
    "    device_map=\"auto\",\n",
    "    trust_remote_code=True\n",
    ")\n",
    "\n",
    "tuned_model = PeftModel.from_pretrained(tmp_model, new_model_name)\n",
    "tuned_model = tuned_model.merge_and_unload().eval()"
   ]
  },
  {
   "cell_type": "code",
   "execution_count": 21,
   "id": "1fe1b875",
   "metadata": {},
   "outputs": [],
   "source": [
    "# Merge 'instruction' and 'output' as prompt and target\n",
    "def tokenize(batch):\n",
    "    texts = [\n",
    "        f\"### Instruction:\\n{inst}\\n### Response:\\n{out}\"\n",
    "        for inst, out in zip(batch['instruction'], batch['output'])\n",
    "    ]\n",
    "\n",
    "    tokens = tokenizer(\n",
    "        texts,\n",
    "        padding = 'max_length',\n",
    "        truncation = True,\n",
    "        max_length = 256,\n",
    "        return_tensors = 'pt'\n",
    "    )\n",
    "\n",
    "    tokens['labels'] = tokens['input_ids'].clone()\n",
    "\n",
    "    return tokens\n",
    "\n",
    "\n",
    "# Merge 'instruction' and 'output' as prompt and target\n",
    "def format_example(example):\n",
    "    prompt = f\"### Instruction:\\n{example['instruction']}\\n\\n### Response:\\n{example['output']}\"\n",
    "    return {\"text\": prompt}"
   ]
  },
  {
   "cell_type": "code",
   "execution_count": 24,
   "id": "473aed28",
   "metadata": {},
   "outputs": [],
   "source": [
    "input_json_file_name = \"cleaned_1506_raw_outputs_samples1260_nreps3_new_tok256_chuck_size250_overlap30_.json\"\n",
    "dataset = load_dataset(\"json\", data_files=input_json_file_name)\n"
   ]
  },
  {
   "cell_type": "code",
   "execution_count": 7,
   "id": "2b885508",
   "metadata": {},
   "outputs": [],
   "source": [
    "splits = dataset[\"train\"].train_test_split(test_size=0.1, seed=42)\n",
    "dataset = splits[\"train\"]\n",
    "test_dataset = splits[\"test\"]"
   ]
  },
  {
   "cell_type": "code",
   "execution_count": 8,
   "id": "42891ac3",
   "metadata": {},
   "outputs": [],
   "source": [
    "test_dataset = test_dataset.map(tokenize, batched=True, remove_columns=[\"instruction\", \"output\"])"
   ]
  },
  {
   "cell_type": "code",
   "execution_count": 9,
   "id": "173981f1",
   "metadata": {},
   "outputs": [],
   "source": [
    "eval_ds = test_dataset.with_format('torch')\n"
   ]
  },
  {
   "cell_type": "code",
   "execution_count": 14,
   "id": "3145e14b",
   "metadata": {},
   "outputs": [],
   "source": [
    "eval_loader = DataLoader(\n",
    "    eval_ds,\n",
    "    batch_size = 8,\n",
    "    collate_fn = default_data_collator\n",
    ")"
   ]
  },
  {
   "cell_type": "code",
   "execution_count": 15,
   "id": "71d6d9f9",
   "metadata": {},
   "outputs": [],
   "source": [
    "@torch.no_grad()\n",
    "def compute_perplexity(model):\n",
    "    losses = []\n",
    "    \n",
    "    for batch in eval_loader:\n",
    "        batch = {k: v.to('cuda') for k, v in batch.items()}\n",
    "        loss = model(**batch).loss\n",
    "        losses.append(loss.item())\n",
    "\n",
    "    return math.exp(sum(losses) / len(losses))"
   ]
  },
  {
   "cell_type": "code",
   "execution_count": 17,
   "id": "c958fdb5",
   "metadata": {},
   "outputs": [
    {
     "name": "stdout",
     "output_type": "stream",
     "text": [
      "Base Model Perplexity: 8275.61\n",
      "Tuned Model Perplexity: 8045.69\n"
     ]
    }
   ],
   "source": [
    "import math\n",
    "print(f'Base Model Perplexity: {compute_perplexity(model):.2f}')\n",
    "print(f'Tuned Model Perplexity: {compute_perplexity(tuned_model):.2f}')\n"
   ]
  },
  {
   "cell_type": "code",
   "execution_count": 25,
   "id": "63651ed2",
   "metadata": {},
   "outputs": [],
   "source": [
    "test_text = dataset[\"train\"].train_test_split(test_size=0.1, seed=42)['test']\n"
   ]
  },
  {
   "cell_type": "code",
   "execution_count": 26,
   "id": "9f7fb402",
   "metadata": {},
   "outputs": [
    {
     "name": "stdout",
     "output_type": "stream",
     "text": [
      "{'instruction': 'Stand up straight, with your feet shoulder-width apart, and your hands on your hips. Look straight ahead with your eyes closed. Take a deep breath in through your nose, and exhale through your mouth. Try to maintain this position for at least 10-15 seconds, then gradually release your arms and relax your shoulders?.', 'output': 'Your spine is aligned with your shoulders, and you are not tense or stiff. You can take a deep breath and relax your shoulders without having to engage them in any specific way. Your posture is good.', 'text': '### Instruction:\\nStand up straight, with your feet shoulder-width apart, and your hands on your hips. Look straight ahead with your eyes closed. Take a deep breath in through your nose, and exhale through your mouth. Try to maintain this position for at least 10-15 seconds, then gradually release your arms and relax your shoulders?.\\n\\n### Response:\\nYour spine is aligned with your shoulders, and you are not tense or stiff. You can take a deep breath and relax your shoulders without having to engage them in any specific way. Your posture is good.'}\n"
     ]
    }
   ],
   "source": [
    "test_text = test_text.map(format_example)\n",
    "print(test_text[1])"
   ]
  },
  {
   "cell_type": "code",
   "execution_count": 43,
   "id": "8917bad9",
   "metadata": {},
   "outputs": [],
   "source": [
    "def generate_response(model, model_tuned , message, output):\n",
    "    prompt = [{\"role\": \"user\", \"content\": message}]\n",
    "    print(\"Input Message:\")\n",
    "    display(Markdown(message))\n",
    "    print(\"Output\")\n",
    "    display(Markdown(output))\n",
    "    formatted_prompt = tokenizer.apply_chat_template(prompt, tokenize=False, add_generation_prompt=True)\n",
    "\n",
    "    outputs = tokenizer(formatted_prompt, return_tensors=\"pt\").to(\"cuda\")  # or \"cpu\"\n",
    "    response = model.generate(\n",
    "        **outputs,\n",
    "        max_new_tokens=256,\n",
    "        do_sample=True,         # enables sampling for variability\n",
    "        temperature=0.7,       # controls randomness\n",
    "        top_p=0.9,             # nucleus sampling\n",
    "        top_k=50                # limits the number of highest probability vocabulary tokens to keep for generation\n",
    "    )\n",
    "    decoded =tokenizer.decode(response[0], skip_special_tokens=True)\n",
    "    print(f\"******************************\")\n",
    "    print(f\"Response Base Model\")\n",
    "\n",
    "    display(Markdown(decoded.split('<|assistant|>')[-1]))\n",
    "    print(f\"******************************\")\n",
    "    \n",
    "    response_tuned = model_tuned.generate(\n",
    "        **outputs,\n",
    "        max_new_tokens=256,\n",
    "        do_sample=True,         # enables sampling for variability\n",
    "        temperature=0.7,       # controls randomness\n",
    "        top_p=0.9,             # nucleus sampling\n",
    "        top_k=50                # limits the number of highest probability vocabulary tokens to keep for generation\n",
    "    )\n",
    "    decoded_tuned =tokenizer.decode(response_tuned[0], skip_special_tokens=True)\n",
    "    print(f\"Response Finetunned Model\")\n",
    "    display(Markdown(decoded_tuned.split('<|assistant|>')[-1]))\n",
    "    print(f\"********************************\")\n",
    "    return decoded, decoded_tuned\n",
    "\n",
    "#_, _ = generate_response(model, tuned_model, test_text[2]['instruction'])\n"
   ]
  },
  {
   "cell_type": "code",
   "execution_count": 45,
   "id": "aa8eab6a",
   "metadata": {},
   "outputs": [
    {
     "name": "stdout",
     "output_type": "stream",
     "text": [
      "Input Message:\n"
     ]
    },
    {
     "data": {
      "text/markdown": [
       "Quick solutions for iliotibial band syndrome in runners. Involves the functional anatomy of the iliotibial band during flexion and extension of the knee. Biomechanics of the iliotibial band friction syndrome in runners. The functional anatomy of the iliotibial band during flexion and extension of the knee?."
      ],
      "text/plain": [
       "<IPython.core.display.Markdown object>"
      ]
     },
     "metadata": {},
     "output_type": "display_data"
    },
    {
     "name": "stdout",
     "output_type": "stream",
     "text": [
      "Output\n"
     ]
    },
    {
     "data": {
      "text/markdown": [
       "Involves the functional anatomy of the iliotibial band during flexion and extension of the knee. Biomechanics of the iliotibial band friction syndrome in runners. Quick solutions for iliotibial band syndrome in runners."
      ],
      "text/plain": [
       "<IPython.core.display.Markdown object>"
      ]
     },
     "metadata": {},
     "output_type": "display_data"
    },
    {
     "name": "stdout",
     "output_type": "stream",
     "text": [
      "******************************\n",
      "Response Base Model\n"
     ]
    },
    {
     "data": {
      "text/markdown": [
       "\n",
       "1. Functional anatomy of the iliotibial band during flexion and extension of the knee:\n",
       "The iliotibial band is a long, thick band of connective tissue that runs from the hip to the knee. Its primary function is to stabilize the knee joint during flexion (bending the knee) and extension (straightening the knee). The band is also responsible for facilitating the transfer of proprioceptive information from the hip and knee joints to the foot and ankle.\n",
       "\n",
       "During flexion, the iliotibial band compresses the knee joint, which helps to reduce the load on the knee joint and the hip joint. The compression also helps to stabilize the knee joint and prevent excessive knee extension.\n",
       "\n",
       "During extension, the iliotibial band is stretched, which helps to increase the load on the knee joint and the hip joint. The stretch also helps to facilitate the transfer of proprioceptive information from the hip and knee joints to the foot and ankle.\n",
       "\n",
       "2. Biomechanics of the iliotibial band friction syndrome in runners:\n"
      ],
      "text/plain": [
       "<IPython.core.display.Markdown object>"
      ]
     },
     "metadata": {},
     "output_type": "display_data"
    },
    {
     "name": "stdout",
     "output_type": "stream",
     "text": [
      "******************************\n",
      "Response Finetunned Model\n"
     ]
    },
    {
     "data": {
      "text/markdown": [
       "\n",
       "1. Functional anatomy of the iliotibial band during flexion and extension of the knee:\n",
       "The iliotibial band is a long, thick tendon that runs along the outside of the thigh. It passes through the hip socket and joins the knee ligaments. The iliotibial band is responsible for stabilizing the knee during squatting, running, and other activities that require the knee to flex and extend.\n",
       "\n",
       "During flexion, the iliotibial band moves away from the hip joint, compressing the patellar tendon. This compression can cause friction between the iliotibial band and patellar tendon, leading to iliotibial band syndrome.\n",
       "\n",
       "During extension, the iliotibial band moves closer to the hip joint, allowing for greater movement of the patellar tendon. This movement can also cause friction between the iliotibial band and patellar tendon, leading to iliotibial band syndrome.\n",
       "\n",
       "2. Biomechanics of the iliotibial band friction syndrome in runners:\n",
       "The friction between the iliotibial band and patellar tendon"
      ],
      "text/plain": [
       "<IPython.core.display.Markdown object>"
      ]
     },
     "metadata": {},
     "output_type": "display_data"
    },
    {
     "name": "stdout",
     "output_type": "stream",
     "text": [
      "********************************\n",
      "Input Message:\n"
     ]
    },
    {
     "data": {
      "text/markdown": [
       "Stand up straight, with your feet shoulder-width apart, and your hands on your hips. Look straight ahead with your eyes closed. Take a deep breath in through your nose, and exhale through your mouth. Try to maintain this position for at least 10-15 seconds, then gradually release your arms and relax your shoulders?."
      ],
      "text/plain": [
       "<IPython.core.display.Markdown object>"
      ]
     },
     "metadata": {},
     "output_type": "display_data"
    },
    {
     "name": "stdout",
     "output_type": "stream",
     "text": [
      "Output\n"
     ]
    },
    {
     "data": {
      "text/markdown": [
       "Your spine is aligned with your shoulders, and you are not tense or stiff. You can take a deep breath and relax your shoulders without having to engage them in any specific way. Your posture is good."
      ],
      "text/plain": [
       "<IPython.core.display.Markdown object>"
      ]
     },
     "metadata": {},
     "output_type": "display_data"
    },
    {
     "name": "stdout",
     "output_type": "stream",
     "text": [
      "******************************\n",
      "Response Base Model\n"
     ]
    },
    {
     "data": {
      "text/markdown": [
       "\n",
       "Inhale through your nose, and feel your breath filling your lungs. As you exhale, feel your arms relaxing and your shoulders falling open. Focus on your breath and feel the sensation of the air moving in and out of your lungs. Take a deep breath in through your nose, and exhale through your mouth, feeling the air move out of your body. Repeat this pattern for several breaths, allowing your shoulders to fall open and your arms to relax. Remember to focus on your breath and let go of any tension or stress.\n",
       "\n",
       "As you exhale, try to release any tension in your shoulders. If you notice any tension in your neck or back, focus on relaxing those areas as well. If you feel any discomfort, pause for a few moments and then continue with the breathing pattern.\n",
       "\n",
       "Take a few deep breaths and then gradually release your arms and relax your shoulders. Focus on the sensation of the air moving out of your body and the relaxation of your shoulders. Try to maintain this position for at least 10-15 seconds before gradually releasing your arms and relaxing your shoulders. Repeat this pattern several times, allowing"
      ],
      "text/plain": [
       "<IPython.core.display.Markdown object>"
      ]
     },
     "metadata": {},
     "output_type": "display_data"
    },
    {
     "name": "stdout",
     "output_type": "stream",
     "text": [
      "******************************\n",
      "Response Finetunned Model\n"
     ]
    },
    {
     "data": {
      "text/markdown": [
       "\n",
       "Sitting position:\n",
       "\n",
       "1. Sit with your feet flat on the ground and your knees together.\n",
       "2. Place your hands on your thighs or hips for support.\n",
       "3. Sit upright with your spine straight and your shoulders relaxed.\n",
       "4. Close your eyes or keep them open if you prefer.\n",
       "5. Take a deep breath in through your nose, and exhale through your mouth.\n",
       "6. Hold the breath for 5-10 seconds, then slowly release it.\n",
       "7. Repeat the process for as many deep breaths as you can sustain.\n",
       "8. When you're ready to release the breath, slowly open your eyes or close your eyes.\n",
       "9. Take a short break if you feel comfortable.\n",
       "10. Repeat the process as many times as you can.\n",
       "11. Gradually increase the time you hold your breath for each deep breath.\n",
       "12. If you're feeling more comfortable, try holding your breath for a longer period.\n",
       "13. After the set, take a few deep breaths to cool down and clear your mind.\n",
       "14. Start with a few deep breaths and gradually increase the time as"
      ],
      "text/plain": [
       "<IPython.core.display.Markdown object>"
      ]
     },
     "metadata": {},
     "output_type": "display_data"
    },
    {
     "name": "stdout",
     "output_type": "stream",
     "text": [
      "********************************\n",
      "Input Message:\n"
     ]
    },
    {
     "data": {
      "text/markdown": [
       "Perform a good-quality split squat with the knee in line with the foot, resisting the inward pull of the band. The band pulls the body into a poor position, stimulating the body's awareness of the knee during squatting and teaching it to naturally turn on the appropriate glute muscles to prevent the knee from collapsing?."
      ],
      "text/plain": [
       "<IPython.core.display.Markdown object>"
      ]
     },
     "metadata": {},
     "output_type": "display_data"
    },
    {
     "name": "stdout",
     "output_type": "stream",
     "text": [
      "Output\n"
     ]
    },
    {
     "data": {
      "text/markdown": [
       "A good-quality split squat with the knee in line with the foot, resisting the inward pull of the band, requires the body to fight against the inward pull of the band to maintain a proper squatting position. The band pulls the body into a poor position, stimulating the body's awareness of the knee during squatting and teaching it to naturally turn on the appropriate glute muscles to prevent the knee from collapsing.."
      ],
      "text/plain": [
       "<IPython.core.display.Markdown object>"
      ]
     },
     "metadata": {},
     "output_type": "display_data"
    },
    {
     "name": "stdout",
     "output_type": "stream",
     "text": [
      "******************************\n",
      "Response Base Model\n"
     ]
    },
    {
     "data": {
      "text/markdown": [
       "\n",
       "To perform a good-quality split squat with the knee in line with the foot, follow these steps:\n",
       "\n",
       "1. Start with your feet hip-distance apart.\n",
       "\n",
       "2. Place the band or resistance under your feet and hold it in place.\n",
       "\n",
       "3. Keep your knee in line with your ankle and engage your glutes.\n",
       "\n",
       "4. Lower your body down to the ground, keeping your knee in line with your foot.\n",
       "\n",
       "5. Slowly push back up to the starting position, using the resistance of the band or resistance to help you lift.\n",
       "\n",
       "6. Use your glutes to drive your body back up and over the band or resistance, keeping your knee in line with your foot.\n",
       "\n",
       "7. Continue this movement for the desired number of repetitions.\n",
       "\n",
       "8. Rest for a few seconds before repeating the movement.\n",
       "\n",
       "9. Use the resistance of the band or resistance to help you lift, but avoid over-extending your knee or collapsing your knee.\n",
       "\n",
       "10. Stay focused on the movement, and don't let your mind wander.\n",
       "\n",
       "11. Incorporate the movement into your"
      ],
      "text/plain": [
       "<IPython.core.display.Markdown object>"
      ]
     },
     "metadata": {},
     "output_type": "display_data"
    },
    {
     "name": "stdout",
     "output_type": "stream",
     "text": [
      "******************************\n",
      "Response Finetunned Model\n"
     ]
    },
    {
     "data": {
      "text/markdown": [
       "\n",
       "To perform a good-quality split squat with the knee in line with the foot and resisting the inward pull of the band, follow these steps:\n",
       "\n",
       "1. Warm-up: Stand with your feet shoulder-width apart and hold a pair of dumbbells in front of your chest. Perform a basic squat, keeping your weight on your heels.\n",
       "\n",
       "2. Lower the weights: Slowly lower the weights behind your back, keeping them in front of your body. Keep your chest up and your core tight.\n",
       "\n",
       "3. Resist the inward pull of the band: Slowly and steadily pull the band towards your body while keeping your back straight and your chest up. Keep your core tight and your shoulders down.\n",
       "\n",
       "4. Keep the knee in line with the foot: Keep your knee in line with your ankle throughout the squat. This will help you maintain proper alignment and prevent the knee from collapsing.\n",
       "\n",
       "5. Return to the starting position: As you come up to the starting position, slowly lower the weights back behind your back. Keep your chest up and your core tight.\n",
       "\n",
       "6. Stretch: Finally,"
      ],
      "text/plain": [
       "<IPython.core.display.Markdown object>"
      ]
     },
     "metadata": {},
     "output_type": "display_data"
    },
    {
     "name": "stdout",
     "output_type": "stream",
     "text": [
      "********************************\n",
      "Input Message:\n"
     ]
    },
    {
     "data": {
      "text/markdown": [
       "During a restricted and unrestricted squat, the spine during the squat should be in a straight line from the head to the heels, with the lumbar spine in a neutral position. This is called the neutral spine position?."
      ],
      "text/plain": [
       "<IPython.core.display.Markdown object>"
      ]
     },
     "metadata": {},
     "output_type": "display_data"
    },
    {
     "name": "stdout",
     "output_type": "stream",
     "text": [
      "Output\n"
     ]
    },
    {
     "data": {
      "text/markdown": [
       "The spine during a restricted and unrestricted squat should be in a straight line from the head to the heels, with the lumbar spine in a neutral position."
      ],
      "text/plain": [
       "<IPython.core.display.Markdown object>"
      ]
     },
     "metadata": {},
     "output_type": "display_data"
    },
    {
     "name": "stdout",
     "output_type": "stream",
     "text": [
      "******************************\n",
      "Response Base Model\n"
     ]
    },
    {
     "data": {
      "text/markdown": [
       "\n",
       "Yes, during a restricted and unrestricted squat, the spine during the squat should be in a straight line from the head to the heels, with the lumbar spine in a neutral position. This is called the neutral spine position. This is important for maintaining good posture and reducing the risk of injury during squats. A neutral spine position allows for proper alignment of the spine, which helps to reduce stress on the joints and improve performance during the squat."
      ],
      "text/plain": [
       "<IPython.core.display.Markdown object>"
      ]
     },
     "metadata": {},
     "output_type": "display_data"
    },
    {
     "name": "stdout",
     "output_type": "stream",
     "text": [
      "******************************\n",
      "Response Finetunned Model\n"
     ]
    },
    {
     "data": {
      "text/markdown": [
       "\n",
       "Yes, that is correct. The neutral spine position during a restricted and unrestricted squat is essential for proper form and alignment. The lumbar spine should be in a neutral position during the squat, which means it should not be arched or flexed. This position helps to prevent any stress on the lower back muscles during the squat and ensures that the spine is in a neutral position throughout the entire exercise. By maintaining this neutral spine position, the spine is protected from any unnecessary stress and ensures optimal spinal alignment."
      ],
      "text/plain": [
       "<IPython.core.display.Markdown object>"
      ]
     },
     "metadata": {},
     "output_type": "display_data"
    },
    {
     "name": "stdout",
     "output_type": "stream",
     "text": [
      "********************************\n",
      "Input Message:\n"
     ]
    },
    {
     "data": {
      "text/markdown": [
       "Increase the number of sets of 4 sets of 8 reps each, followed by 6 reps of plyometrics to recover from the Spring. Also, increase the ability of the Achilles tendon to absorb and store loads through strengthening the muscles. Plyometric exercises such as squats, deadlifts, and jump squats are recommended to improve the load absorption capabilities of the Achilles tendon?."
      ],
      "text/plain": [
       "<IPython.core.display.Markdown object>"
      ]
     },
     "metadata": {},
     "output_type": "display_data"
    },
    {
     "name": "stdout",
     "output_type": "stream",
     "text": [
      "Output\n"
     ]
    },
    {
     "data": {
      "text/markdown": [
       "Increase the number of sets of 4 sets of 8 reps each, followed by 6 reps of plyometrics to recover from the Spring. Also, increase the ability of the Achilles tendon to absorb and store loads through strengthening the muscles. Plyometric exercises such as squats, deadlifts, and jump squats are recommended to improve the load absorption capabilities of the Achilles tendon."
      ],
      "text/plain": [
       "<IPython.core.display.Markdown object>"
      ]
     },
     "metadata": {},
     "output_type": "display_data"
    },
    {
     "name": "stdout",
     "output_type": "stream",
     "text": [
      "******************************\n",
      "Response Base Model\n"
     ]
    },
    {
     "data": {
      "text/markdown": [
       "\n",
       "Increase the number of sets of 4 sets of 8 reps each, followed by 6 reps of plyometrics to recover from the Spring.\n",
       "\n",
       "Additionally, increase the ability of the Achilles tendon to absorb and store loads through strengthening the muscles. Plyometric exercises such as squats, deadlifts, and jump squats are recommended to improve the load absorption capabilities of the Achilles tendon.\n",
       "\n",
       "The recommended plyometric exercises are squats, deadlifts, and jump squats. These exercises help to improve the load absorption capabilities of the Achilles tendon by increasing the force and stress on the tendon. By doing plyometric exercises, the Achilles tendon can better absorb and store the load, ultimately improving the overall strength and power of the leg muscles."
      ],
      "text/plain": [
       "<IPython.core.display.Markdown object>"
      ]
     },
     "metadata": {},
     "output_type": "display_data"
    },
    {
     "name": "stdout",
     "output_type": "stream",
     "text": [
      "******************************\n",
      "Response Finetunned Model\n"
     ]
    },
    {
     "data": {
      "text/markdown": [
       "\n",
       "Increase the number of sets of 4 sets of 8 reps each, followed by 6 reps of plyometrics to recover from the Spring. Additionally, increase the ability of the Achilles tendon to absorb and store loads through strengthening the muscles by incorporating plyometric exercises such as squats, deadlifts, and jump squats. This will help to improve the load absorption capabilities of the Achilles tendon. Plyometric exercises such as squats, deadlifts, and jump squats are recommended to improve the load absorption capabilities of the Achilles tendon."
      ],
      "text/plain": [
       "<IPython.core.display.Markdown object>"
      ]
     },
     "metadata": {},
     "output_type": "display_data"
    },
    {
     "name": "stdout",
     "output_type": "stream",
     "text": [
      "********************************\n",
      "Input Message:\n"
     ]
    },
    {
     "data": {
      "text/markdown": [
       "Home alternative: two tennis balls taped together?."
      ],
      "text/plain": [
       "<IPython.core.display.Markdown object>"
      ]
     },
     "metadata": {},
     "output_type": "display_data"
    },
    {
     "name": "stdout",
     "output_type": "stream",
     "text": [
      "Output\n"
     ]
    },
    {
     "data": {
      "text/markdown": [
       "A set of two tennis balls can be used to practice shoulder and hamstring stretches."
      ],
      "text/plain": [
       "<IPython.core.display.Markdown object>"
      ]
     },
     "metadata": {},
     "output_type": "display_data"
    },
    {
     "name": "stdout",
     "output_type": "stream",
     "text": [
      "******************************\n",
      "Response Base Model\n"
     ]
    },
    {
     "data": {
      "text/markdown": [
       "\n",
       "Yes, this is a home alternative for two tennis balls taped together. To make this activity, you will need two tennis balls.\n",
       "\n",
       "Materials:\n",
       "- Two tennis balls\n",
       "\n",
       "Instructions:\n",
       "1. Place the tennis balls on a flat surface (such as a table or floor) in a line.\n",
       "2. Take one of the tennis balls and gently press it down onto the other ball, creating a small indentation.\n",
       "3. Place the indentation facing up (so that the indentation is facing the other ball).\n",
       "4. Continue doing this with the remaining balls until you have created a pattern of indents.\n",
       "5. Cut the tennis balls in half using scissors.\n",
       "6. Place the cut-up tennis balls in a container or jar.\n",
       "7. Tie a knot or string around the top of the container or jar, tying it tightly to prevent the balls from falling out.\n",
       "8. Add more balls to the container or jar as desired.\n",
       "9. Place the container or jar on a flat surface (such as a table or floor) and shake it gently to distribute the balls evenly.\n",
       "10. Enjoy your homemade"
      ],
      "text/plain": [
       "<IPython.core.display.Markdown object>"
      ]
     },
     "metadata": {},
     "output_type": "display_data"
    },
    {
     "name": "stdout",
     "output_type": "stream",
     "text": [
      "******************************\n",
      "Response Finetunned Model\n"
     ]
    },
    {
     "data": {
      "text/markdown": [
       "\n",
       "Yes, that's correct! Two tennis balls taped together is a common alternative to a tennis racket for hitting a tennis ball. The tennis balls provide a soft, rubbery surface that mimics the feel of a real tennis racket, making it easier to hit the ball with accuracy and power. The taped tennis balls can also be used for other sports, such as basketball, volleyball, and soccer."
      ],
      "text/plain": [
       "<IPython.core.display.Markdown object>"
      ]
     },
     "metadata": {},
     "output_type": "display_data"
    },
    {
     "name": "stdout",
     "output_type": "stream",
     "text": [
      "********************************\n",
      "Input Message:\n"
     ]
    },
    {
     "data": {
      "text/markdown": [
       "To walk with your toes pointing straight forward, it's important to have a healthy pelvic floor and a good core to support the weight of your body. If your head is spinning due to excessive internal rotation and limited external rotation, it may be helpful to focus on strengthening your hip muscles and keeping them in proper alignment during walking. - Output: Remember, having a good pelvic floor and a strong core is crucial for walking with a straight and healthy spine. To help with this, focus on strengthening your hip muscles, keeping them in proper alignment during walking, and avoiding unnecessary external rotation (which can cause pain)?."
      ],
      "text/plain": [
       "<IPython.core.display.Markdown object>"
      ]
     },
     "metadata": {},
     "output_type": "display_data"
    },
    {
     "name": "stdout",
     "output_type": "stream",
     "text": [
      "Output\n"
     ]
    },
    {
     "data": {
      "text/markdown": [
       "Remember, having a good pelvic floor and a strong core is crucial for walking with a straight and healthy spine. To help with this, focus on strengthening your hip muscles, keeping them in proper alignment during walking, and avoiding unnecessary external rotation (which can cause pain).."
      ],
      "text/plain": [
       "<IPython.core.display.Markdown object>"
      ]
     },
     "metadata": {},
     "output_type": "display_data"
    },
    {
     "name": "stdout",
     "output_type": "stream",
     "text": [
      "******************************\n",
      "Response Base Model\n"
     ]
    },
    {
     "data": {
      "text/markdown": [
       "\n",
       "To avoid unnecessary external rotation, it's essential to focus on strengthening your hip muscles during walking. This can help with maintaining a straight and healthy spine. By maintaining proper alignment during walking, it's possible to avoid excessive internal rotation and keep the weight of your body on your feet. Additionally, maintaining a healthy pelvic floor and core can support the weight of your body and prevent potential pain or discomfort. By focusing on these aspects, you can walk with your toes pointing straight forward, and walk with a straight and healthy spine."
      ],
      "text/plain": [
       "<IPython.core.display.Markdown object>"
      ]
     },
     "metadata": {},
     "output_type": "display_data"
    },
    {
     "name": "stdout",
     "output_type": "stream",
     "text": [
      "******************************\n",
      "Response Finetunned Model\n"
     ]
    },
    {
     "data": {
      "text/markdown": [
       "\n",
       "To walk with your toes pointing straight forward, it's important to have a healthy pelvic floor and a good core to support the weight of your body. If your head is spinning due to excessive internal rotation and limited external rotation, it may be helpful to focus on strengthening your hip muscles and keeping them in proper alignment during walking. Remember, having a good pelvic floor and a strong core is crucial for walking with a straight and healthy spine. To help with this, focus on strengthening your hip muscles, keeping them in proper alignment during walking, and avoiding unnecessary external rotation (which can cause pain)."
      ],
      "text/plain": [
       "<IPython.core.display.Markdown object>"
      ]
     },
     "metadata": {},
     "output_type": "display_data"
    },
    {
     "name": "stdout",
     "output_type": "stream",
     "text": [
      "********************************\n",
      "Input Message:\n"
     ]
    },
    {
     "data": {
      "text/markdown": [
       "The biceps brachii are two small muscles that attach to the top of the shoulder and could contribute to a false positive in this test?."
      ],
      "text/plain": [
       "<IPython.core.display.Markdown object>"
      ]
     },
     "metadata": {},
     "output_type": "display_data"
    },
    {
     "name": "stdout",
     "output_type": "stream",
     "text": [
      "Output\n"
     ]
    },
    {
     "data": {
      "text/markdown": [
       "False positive."
      ],
      "text/plain": [
       "<IPython.core.display.Markdown object>"
      ]
     },
     "metadata": {},
     "output_type": "display_data"
    },
    {
     "name": "stdout",
     "output_type": "stream",
     "text": [
      "******************************\n",
      "Response Base Model\n"
     ]
    },
    {
     "data": {
      "text/markdown": [
       "\n",
       "Yes, the biceps brachii are two small muscles that attach to the top of the shoulder and could contribute to a false positive in the \"Erector spinae\" test. The test measures the strength and flexibility of the muscles that support the spine, including the erector spinae and the biceps brachii. The biceps brachii are not a direct component of the erector spinae muscle group and could potentially be affected by the test's sensitivity. However, the test's design is designed to detect weakness and imbalances in specific muscle groups, and the biceps brachii are not a common weakness or imbalance in the human body."
      ],
      "text/plain": [
       "<IPython.core.display.Markdown object>"
      ]
     },
     "metadata": {},
     "output_type": "display_data"
    },
    {
     "name": "stdout",
     "output_type": "stream",
     "text": [
      "******************************\n",
      "Response Finetunned Model\n"
     ]
    },
    {
     "data": {
      "text/markdown": [
       "\n",
       "The biceps brachii are not considered a true muscle in the human body, and there is no evidence to suggest that they contribute to a false positive in this test. The test measures the strength of the biceps brachii muscle, which is a skeletal muscle that is not considered a true muscle in the human body."
      ],
      "text/plain": [
       "<IPython.core.display.Markdown object>"
      ]
     },
     "metadata": {},
     "output_type": "display_data"
    },
    {
     "name": "stdout",
     "output_type": "stream",
     "text": [
      "********************************\n",
      "Input Message:\n"
     ]
    },
    {
     "data": {
      "text/markdown": [
       "Single-leg squat screen?."
      ],
      "text/plain": [
       "<IPython.core.display.Markdown object>"
      ]
     },
     "metadata": {},
     "output_type": "display_data"
    },
    {
     "name": "stdout",
     "output_type": "stream",
     "text": [
      "Output\n"
     ]
    },
    {
     "data": {
      "text/markdown": [
       "You performed a single-leg squat, but it was hard for you to balance and squat on one leg. Try doing a bodyweight squat on one leg and focus on maintaining stability throughout the movement."
      ],
      "text/plain": [
       "<IPython.core.display.Markdown object>"
      ]
     },
     "metadata": {},
     "output_type": "display_data"
    },
    {
     "name": "stdout",
     "output_type": "stream",
     "text": [
      "******************************\n",
      "Response Base Model\n"
     ]
    },
    {
     "data": {
      "text/markdown": [
       "\n",
       "Yes, the Single-leg Squat Screen is a popular technique for improving the single-leg squat. It involves performing a squat with one leg and then switching to the other leg for a full rep. Here's how it works:\n",
       "\n",
       "1. Start in a squat position with your back against a wall or a sturdy object.\n",
       "\n",
       "2. Place your left foot on the wall or sturdy object, and place your right foot on the ground.\n",
       "\n",
       "3. Take a step forward with your right leg, keeping your weight on your left foot.\n",
       "\n",
       "4. Use your right leg to push off, and lift your left foot off the ground.\n",
       "\n",
       "5. Lower your body back down to the ground while keeping your right leg in the air.\n",
       "\n",
       "6. Switch legs, and repeat the movement on the other side.\n",
       "\n",
       "This technique targets the single-leg muscles, including the quads, hamstrings, and glutes, and can improve your form, balance, and overall strength in the leg. It's also a great way to add variety to your workout routine."
      ],
      "text/plain": [
       "<IPython.core.display.Markdown object>"
      ]
     },
     "metadata": {},
     "output_type": "display_data"
    },
    {
     "name": "stdout",
     "output_type": "stream",
     "text": [
      "******************************\n",
      "Response Finetunned Model\n"
     ]
    },
    {
     "data": {
      "text/markdown": [
       "\n",
       "Yes, a single-leg squat screen is a low-impact exercise that targets the glutes, hamstrings, and quads. The exercise involves squatting down onto one leg and then extending the opposite leg back to a high plank position. The goal is to maintain a high plank position and squat down onto the single leg, while alternating between squatting and extending the opposite leg. The exercise can be performed with or without weights, and it is a great way to improve balance, strength, and flexibility."
      ],
      "text/plain": [
       "<IPython.core.display.Markdown object>"
      ]
     },
     "metadata": {},
     "output_type": "display_data"
    },
    {
     "name": "stdout",
     "output_type": "stream",
     "text": [
      "********************************\n",
      "Input Message:\n"
     ]
    },
    {
     "data": {
      "text/markdown": [
       "Stand upright with your feet shoulder-width apart, toes pointing outward. Place your hands on your thighs, palms facing forward. If you are experiencing pain in this standing position, move on to the next part of the examination. If you do not experience pain, see if you can figure out why and modify your symptoms. Is there a specific standing position that causes pain in your low back or shoulders? If yes, what does this indicate about your overall fitness and overall health?."
      ],
      "text/plain": [
       "<IPython.core.display.Markdown object>"
      ]
     },
     "metadata": {},
     "output_type": "display_data"
    },
    {
     "name": "stdout",
     "output_type": "stream",
     "text": [
      "Output\n"
     ]
    },
    {
     "data": {
      "text/markdown": [
       "Sure, standing on my left side causes some pain in my left lower back, particularly when I lean forward. I can modify my position to keep my weight on my right side, which reduces the pain. I can also try standing on my right side, which helps to relieve some of the pain in my left lower back."
      ],
      "text/plain": [
       "<IPython.core.display.Markdown object>"
      ]
     },
     "metadata": {},
     "output_type": "display_data"
    },
    {
     "name": "stdout",
     "output_type": "stream",
     "text": [
      "******************************\n",
      "Response Base Model\n"
     ]
    },
    {
     "data": {
      "text/markdown": [
       "\n",
       "Yes, there is a specific standing position that causes pain in the low back and shoulders, and it is called the \"sit-to-stand\" position. This standing position involves standing with your feet shoulder-width apart and your hands on your thighs. If you experience pain in this position, it could be a sign that your lower back is not well-supported or that you may be overweight or overextending your lower back. This could also indicate that you have a sedentary lifestyle or a lack of exercise. To modify this position to alleviate pain, try using a strap or block to support your legs and feet while standing. Additionally, you may need to modify your sitting or standing posture to prevent further strain on your lower back."
      ],
      "text/plain": [
       "<IPython.core.display.Markdown object>"
      ]
     },
     "metadata": {},
     "output_type": "display_data"
    },
    {
     "name": "stdout",
     "output_type": "stream",
     "text": [
      "******************************\n",
      "Response Finetunned Model\n"
     ]
    },
    {
     "data": {
      "text/markdown": [
       "\n",
       "Response:\n",
       "\n",
       "Yes, there is a specific standing position that can cause pain in the low back or shoulders. This is called the \"kneeling position,\" also known as the \"squat.\" When we sit or stand in a kneeling position, our hips and thighs are parallel to the ground, which can put pressure on the lower back and shoulders. This can lead to discomfort or pain in these areas.\n",
       "\n",
       "To modify your symptoms, you can try taking a step or two forward instead of straight ahead. This can help reduce pressure on the low back and shoulders. Alternatively, you could try doing some low-impact exercises, such as swimming or cycling, to reduce the pressure on the lower back and shoulders.\n",
       "\n",
       "Overall, it's essential to understand the physiology of your body and how it responds to different standing positions. By understanding this, you can make informed choices about how you sit, stand, or move throughout the day to maintain optimal health and fitness."
      ],
      "text/plain": [
       "<IPython.core.display.Markdown object>"
      ]
     },
     "metadata": {},
     "output_type": "display_data"
    },
    {
     "name": "stdout",
     "output_type": "stream",
     "text": [
      "********************************\n"
     ]
    }
   ],
   "source": [
    "for i in range(10):\n",
    "    generate_response(model, tuned_model, test_text[i]['instruction'], test_text[i]['output'])\n"
   ]
  }
 ],
 "metadata": {
  "kernelspec": {
   "display_name": "ratenv",
   "language": "python",
   "name": "python3"
  },
  "language_info": {
   "codemirror_mode": {
    "name": "ipython",
    "version": 3
   },
   "file_extension": ".py",
   "mimetype": "text/x-python",
   "name": "python",
   "nbconvert_exporter": "python",
   "pygments_lexer": "ipython3",
   "version": "3.12.3"
  }
 },
 "nbformat": 4,
 "nbformat_minor": 5
}
